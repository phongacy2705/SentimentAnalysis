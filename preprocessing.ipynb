{
  "nbformat": 4,
  "nbformat_minor": 0,
  "metadata": {
    "colab": {
      "name": "preprocessing.ipynb",
      "provenance": [],
      "collapsed_sections": []
    },
    "kernelspec": {
      "name": "python3",
      "display_name": "Python 3"
    },
    "language_info": {
      "name": "python"
    }
  },
  "cells": [
    {
      "cell_type": "code",
      "metadata": {
        "colab": {
          "base_uri": "https://localhost:8080/"
        },
        "id": "sLspvGhGuDn4",
        "outputId": "1ff290d6-62bc-41ef-db8d-161526c2c86e"
      },
      "source": [
        "pip install pyvi"
      ],
      "execution_count": null,
      "outputs": [
        {
          "output_type": "stream",
          "text": [
            "Collecting pyvi\n",
            "\u001b[?25l  Downloading https://files.pythonhosted.org/packages/10/e1/0e5bc6b5e3327b9385d6e0f1b0a7c0404f28b74eb6db59a778515b30fd9c/pyvi-0.1-py2.py3-none-any.whl (8.5MB)\n",
            "\u001b[K     |████████████████████████████████| 8.5MB 11.6MB/s \n",
            "\u001b[?25hRequirement already satisfied: scikit-learn in /usr/local/lib/python3.7/dist-packages (from pyvi) (0.22.2.post1)\n",
            "Collecting sklearn-crfsuite\n",
            "  Downloading https://files.pythonhosted.org/packages/25/74/5b7befa513482e6dee1f3dd68171a6c9dfc14c0eaa00f885ffeba54fe9b0/sklearn_crfsuite-0.3.6-py2.py3-none-any.whl\n",
            "Requirement already satisfied: scipy>=0.17.0 in /usr/local/lib/python3.7/dist-packages (from scikit-learn->pyvi) (1.4.1)\n",
            "Requirement already satisfied: numpy>=1.11.0 in /usr/local/lib/python3.7/dist-packages (from scikit-learn->pyvi) (1.19.5)\n",
            "Requirement already satisfied: joblib>=0.11 in /usr/local/lib/python3.7/dist-packages (from scikit-learn->pyvi) (1.0.1)\n",
            "Requirement already satisfied: tabulate in /usr/local/lib/python3.7/dist-packages (from sklearn-crfsuite->pyvi) (0.8.9)\n",
            "Requirement already satisfied: tqdm>=2.0 in /usr/local/lib/python3.7/dist-packages (from sklearn-crfsuite->pyvi) (4.41.1)\n",
            "Requirement already satisfied: six in /usr/local/lib/python3.7/dist-packages (from sklearn-crfsuite->pyvi) (1.15.0)\n",
            "Collecting python-crfsuite>=0.8.3\n",
            "\u001b[?25l  Downloading https://files.pythonhosted.org/packages/79/47/58f16c46506139f17de4630dbcfb877ce41a6355a1bbf3c443edb9708429/python_crfsuite-0.9.7-cp37-cp37m-manylinux1_x86_64.whl (743kB)\n",
            "\u001b[K     |████████████████████████████████| 747kB 37.3MB/s \n",
            "\u001b[?25hInstalling collected packages: python-crfsuite, sklearn-crfsuite, pyvi\n",
            "Successfully installed python-crfsuite-0.9.7 pyvi-0.1 sklearn-crfsuite-0.3.6\n"
          ],
          "name": "stdout"
        }
      ]
    },
    {
      "cell_type": "code",
      "metadata": {
        "id": "YzbcSjTYtcbi"
      },
      "source": [
        "import re\n",
        "import string\n",
        "from pyvi import ViTokenizer"
      ],
      "execution_count": null,
      "outputs": []
    },
    {
      "cell_type": "code",
      "metadata": {
        "colab": {
          "base_uri": "https://localhost:8080/"
        },
        "id": "nII5RQE7mX0U",
        "outputId": "19329edd-6475-4f96-ac24-17ed93ebece3"
      },
      "source": [
        "from google.colab import drive\n",
        "drive.mount('/content/drive')"
      ],
      "execution_count": null,
      "outputs": [
        {
          "output_type": "stream",
          "text": [
            "Mounted at /content/drive\n"
          ],
          "name": "stdout"
        }
      ]
    },
    {
      "cell_type": "code",
      "metadata": {
        "id": "jXUJSRuSoAgd"
      },
      "source": [
        "import pandas as pd"
      ],
      "execution_count": null,
      "outputs": []
    },
    {
      "cell_type": "code",
      "metadata": {
        "id": "VZyKTLW8n3eo"
      },
      "source": [
        "dataset = pd.read_csv('data.csv')"
      ],
      "execution_count": null,
      "outputs": []
    },
    {
      "cell_type": "code",
      "metadata": {
        "id": "7NOV4Ei_oGBY"
      },
      "source": [
        "text = dataset.iloc[:,0]"
      ],
      "execution_count": null,
      "outputs": []
    },
    {
      "cell_type": "code",
      "metadata": {
        "id": "GiKT3R8Uru67"
      },
      "source": [
        "def normalize_text(text):\n",
        "\n",
        "    #Remove các ký tự kéo dài: vd: đẹppppppp\n",
        "    text = re.sub(r'([A-Z])\\1+', lambda m: m.group(1).upper(), text, flags=re.IGNORECASE)\n",
        "\n",
        "    # Chuyển thành chữ thường\n",
        "    text = text.lower()\n",
        "\n",
        "    #Chuẩn hóa tiếng Việt, xử lý emoj, chuẩn hóa tiếng Anh, thuật ngữ\n",
        "    replace_list = {\n",
        "        'òa': 'oà', 'óa': 'oá', 'ỏa': 'oả', 'õa': 'oã', 'ọa': 'oạ', 'òe': 'oè', 'óe': 'oé','ỏe': 'oẻ',\n",
        "        'õe': 'oẽ', 'ọe': 'oẹ', 'ùy': 'uỳ', 'úy': 'uý', 'ủy': 'uỷ', 'ũy': 'uỹ','ụy': 'uỵ', 'uả': 'ủa',\n",
        "        'ả': 'ả', 'ố': 'ố', 'u´': 'ố','ỗ': 'ỗ', 'ồ': 'ồ', 'ổ': 'ổ', 'ấ': 'ấ', 'ẫ': 'ẫ', 'ẩ': 'ẩ',\n",
        "        'ầ': 'ầ', 'ỏ': 'ỏ', 'ề': 'ề','ễ': 'ễ', 'ắ': 'ắ', 'ủ': 'ủ', 'ế': 'ế', 'ở': 'ở', 'ỉ': 'ỉ',\n",
        "        'ẻ': 'ẻ', 'àk': u' à ','aˋ': 'à', 'iˋ': 'ì', 'ă´': 'ắ','ử': 'ử', 'e˜': 'ẽ', 'y˜': 'ỹ', 'a´': 'á',\n",
        "        #Quy các icon về 2 loại emoj: Tích cực hoặc tiêu cực\n",
        "        '🤙': \"tích cực\", \"💩\": \"tiêu cực\",\"😕\": \"tiêu cực\", \"😱\": \"tiêu cực\", \"😸\": \"tích cực\",\n",
        "        \"😾\": \"tiêu cực\", \"🚫\": \"tiêu cực\",  \"🤬\": \"tiêu cực\", \"🧡\": \"tích cực\", '👎': \"tiêu cực\",\n",
        "        '♥': \"tích cực\", '🤩': \"tích cực\", 'like': \"tích cực\", '😣': \"tiêu cực\",\n",
        "        '🤣': \"tích cực\", '🖤': \"tích cực\", ':(': \"tiêu cực\", '😢': \"tiêu cực\",\n",
        "        '❤': \"tích cực\", '😍': \"tích cực\", '😘': \"tích cực\", '😪': \"tiêu cực\", '😊': \"tích cực\",\n",
        "        '?': ' ? ', '😁': \"tích cực\", '💖': \"tích cực\", '😟': \"tiêu cực\", '😭': \"tiêu cực\",\n",
        "        '💯': \"tích cực\", '💗': \"tích cực\", '♡': \"tích cực\", '💜': \"tích cực\", '🤗': \"tích cực\",\n",
        "        '^^': \"tích cực\", '😨': \"tiêu cực\", '☺': \"tích cực\", '💋': \"tích cực\", '👌': \"tích cực\",\n",
        "        '😖': \"tiêu cực\", '😀': \"tích cực\", ':((': \"tiêu cực\", '😡': \"tiêu cực\", '😠': \"tiêu cực\",\n",
        "        '😒': \"tiêu cực\", '🙂': \"tích cực\", '😏': ' nagative ', '😝': \"tích cực\", '😄': \"tích cực\",\n",
        "        '😙': \"tích cực\", '😤': \"tiêu cực\", '😎': \"tích cực\", '😆': ' positive ', '💚': ' positive ',\n",
        "        '✌': \"tích cực\", '💕': \"tích cực\", '😞': \"tiêu cực\", '😓': \"tiêu cực\", '️🆗️': \"tích cực\",\n",
        "        '😉': \"tích cực\", '😂': \"tích cực\", ':v': \"tích cực\", '=))': \"tích cực\", '😋': \"tích cực\",\n",
        "        '💓': \"tích cực\", '😐': \"tiêu cực\", ':3': \"tích cực\", '😫': \"tiêu cực\", '😥': \"tiêu cực\",\n",
        "        '😃': \"tích cực\", '😬': ' tiêu cực ', '😌': ' tiêu cực ', '💛': \"tích cực\", '🤝': \"tích cực\",\n",
        "        '😗': \"tích cực\", '🤔': \"tiêu cực\", '😑': \"tiêu cực\", '🔥': \"tiêu cực\",\n",
        "        '🆗': \"tích cực\", '😻': \"tích cực\", '💙': \"tích cực\", '💟': \"tích cực\",\n",
        "        '😚': \"tích cực\", '❌': \"tiêu cực\", '👏': \"tích cực\", ';)': \"tích cực\", '<3': \"tích cực\",\n",
        "        '🌝': \"tích cực\",  '🌷': \"tích cực\", '🌸': \"tích cực\", '🌺': \"tích cực\",\n",
        "        '💰': \"tích cực\",  '😇': \"tích cực\", '😛': \"tích cực\", '😜': \"tích cực\",\n",
        "        '🙃': \"tích cực\", '🤑': \"tích cực\", '🤪': \"tích cực\",'☹': \"tiêu cực\",  '💀': \"tiêu cực\",\n",
        "        '😔': \"tiêu cực\", '😧': \"tiêu cực\", '😩': \"tiêu cực\", '😰': \"tiêu cực\", '😳': \"tiêu cực\",\n",
        "        '😵': \"tiêu cực\", '😶': \"tiêu cực\", '🙁': \"tiêu cực\",\n",
        "        #Chuẩn hóa 1 số sentiment words/English words\n",
        "        ':))': '  positive ', ':)': \"tích cực\", 'ô kêi': ' ok ', 'okie': ' ok ', ' o kê ': ' ok ',\n",
        "        'okey': ' ok ', 'ôkê': ' ok ', 'oki': ' ok ', ' oke ':  ' ok ',' okay':' ok ','okê':' ok ',\n",
        "        ' tks ': u' cám ơn ', 'thks': u' cám ơn ', 'thanks': u' cám ơn ', 'ths': u' cám ơn ', 'thank': u' cám ơn ',\n",
        "        '⭐': 'star ', '*': 'star ', '🌟': 'star ', '🎉': u\"tích cực\",\n",
        "        'kg ': u' không ','not': u' không ', u' kg ': u' không ', '\"k ': u' không ',' kh ':u' không ','kô':u' không ','hok':u' không ',' kp ': u' không phải ',u' kô ': u' không ', '\"ko ': u' không ', u' ko ': u' không ', u' k ': u' không ', 'khong': u' không ', u' hok ': u' không ',\n",
        "        'he he': \"tích cực\",'hehe': \"tích cực\",'hihi': \"tích cực\", 'haha': \"tích cực\", 'hjhj': \"tích cực\",\n",
        "        ' lol ': \"tiêu cực\",' cc ': \"tiêu cực\",'cute': u' dễ thương ','huhu': \"tiêu cực\", ' vs ': u' với ', 'wa': ' quá ', 'wá': u' quá', 'j': u' gì ', '“': ' ',\n",
        "        ' sz ': u' cỡ ', 'size': u' cỡ ', u' đx ': u' được ', 'dk': u' được ', 'dc': u' được ', 'đk': u' được ',\n",
        "        'đc': u' được ','authentic': u' chuẩn chính hãng ',u' aut ': u' chuẩn chính hãng ', u' auth ': u' chuẩn chính hãng ', 'thick': u\" tích cực \", 'store': u' cửa hàng ',\n",
        "        'shop': u' cửa hàng ', 'sp': u' sản phẩm ', 'gud': u' tốt ','god': u' tốt ','wel done':' tốt ', 'good': u' tốt ', 'gút': u' tốt ',\n",
        "        'sấu': u' xấu ','gut': u' tốt ', u' tot ': u' tốt ', u' nice ': u' tốt ', 'perfect': 'rất tốt', 'bt': u' bình thường ',\n",
        "        'time': u' thời gian ', 'qá': u' quá ', u' ship ': u' giao hàng ', u' m ': u' mình ', u' mik ': u' mình ',\n",
        "        'ể': 'ể', 'product': 'sản phẩm', 'quality': 'chất lượng','chat':' chất ', 'excelent': 'hoàn hảo', 'bad': 'tệ','fresh': ' tươi ','sad': ' tệ ',\n",
        "        'date': u' hạn sử dụng ', 'hsd': u' hạn sử dụng ','quickly': u' nhanh ', 'quick': u' nhanh ','fast': u' nhanh ','delivery': u' giao hàng ',u' síp ': u' giao hàng ',\n",
        "        'beautiful': u' đẹp tuyệt vời ', u' tl ': u' trả lời ', u' r ': u' rồi ', u' shopE ': u' cửa hàng ',u' order ': u' đặt hàng ',\n",
        "        'chất lg': u' chất lượng ',u' sd ': u' sử dụng ',u' dt ': u' điện thoại ',u' nt ': u' nhắn tin ',u' tl ': u' trả lời ',u' sài ': u' xài ',u'bjo':u' bao giờ ',\n",
        "        'thik': u' thích ',u' sop ': u' cửa hàng ', ' fb ': ' facebook ', ' face ': ' facebook ', ' very ': u' rất ',u'quả ng ':u' quảng  ',\n",
        "        'dep': u' đẹp ',u' xau ': u' xấu ','delicious': u' ngon ', u'hàg': u' hàng ', u'qủa': u' quả ',\n",
        "        'iu': u' yêu ','fake': u' giả mạo ', 'trl': 'trả lời', '><': u\" tích cực \",\n",
        "        ' por ': u' tệ ',' poor ': u' tệ ', 'ib':u' nhắn tin ', 'rep':u' trả lời ',u'fback':' feedback ','fedback':' feedback ','g photo':' google photos ',}\n",
        "\n",
        "    for k, v in replace_list.items():\n",
        "        text = text.replace(k, v)\n",
        "\n",
        "    # chuyen dấu chấm câu thành space\n",
        "    translator = str.maketrans(string.punctuation, ' ' * len(string.punctuation))\n",
        "    text = text.translate(translator)\n",
        "\n",
        "    #remove những ký tự thừa thãi\n",
        "    text = text.replace('🏻','') \\\n",
        "        .replace(\",\", \" \").replace(\".\", \" \") \\\n",
        "        .replace(\";\", \" \").replace(\"“\", \" \") \\\n",
        "        .replace(\":\", \" \").replace(\"”\", \" \") \\\n",
        "        .replace('\"', \" \").replace(\"'\", \" \") \\\n",
        "        .replace(\"!\", \" \").replace(\"?\", \" \") \\\n",
        "        .replace(\"-\", \" \").replace(\"?\", \" \") \\\n",
        "        .replace(\"(\",\" \").replace(\")\",\" \") \\\n",
        "        .replace(\"%\",\" \").replace(\"+\",\" \") \\\n",
        "        .replace(\"=\",\" \")\n",
        "    return text\n"
      ],
      "execution_count": null,
      "outputs": []
    },
    {
      "cell_type": "code",
      "metadata": {
        "id": "ULIaTgrzwpdr"
      },
      "source": [
        "clean_text = text.apply(normalize_text)"
      ],
      "execution_count": null,
      "outputs": []
    },
    {
      "cell_type": "code",
      "metadata": {
        "id": "MMdDcfd4ww8H"
      },
      "source": [
        "clean_text.to_csv('/content/drive/MyDrive/dataclean/dataclean.csv',index=False)"
      ],
      "execution_count": null,
      "outputs": []
    }
  ]
}